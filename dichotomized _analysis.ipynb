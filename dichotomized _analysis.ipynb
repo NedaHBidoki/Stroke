{
 "cells": [
  {
   "cell_type": "code",
   "execution_count": 52,
   "metadata": {},
   "outputs": [],
   "source": [
    "# A Wrapper Function to Calculate Pearson Correlation Confidence Interval in Python"
   ]
  },
  {
   "cell_type": "code",
   "execution_count": 53,
   "metadata": {},
   "outputs": [],
   "source": [
    "import numpy as np\n",
    "from scipy import stats\n",
    "\n",
    "def pearsonr_ci(x,y,alpha=0.05):\n",
    " \n",
    "    r, p = stats.pearsonr(x,y)\n",
    "    r_z = np.arctanh(r)\n",
    "    se = 1/np.sqrt(x.size-3)\n",
    "    z = stats.norm.ppf(1-alpha/2)\n",
    "    lo_z, hi_z = r_z-z*se, r_z+z*se\n",
    "    lo, hi = np.tanh((lo_z, hi_z))\n",
    "    return r, p, lo, hi"
   ]
  },
  {
   "cell_type": "code",
   "execution_count": 54,
   "metadata": {},
   "outputs": [],
   "source": [
    "import numpy as np\n",
    "import pandas as pd\n",
    "import matplotlib.pyplot as plt\n",
    "import networkx as nx\n",
    "import os\n",
    "from scipy.stats import spearmanr,pearsonr\n",
    "import sys\n",
    "from math import log10\n",
    "dir_ ='data'"
   ]
  },
  {
   "cell_type": "code",
   "execution_count": 55,
   "metadata": {},
   "outputs": [],
   "source": [
    "NPX_data =  pd.read_excel(open(os.path.join(dir_,'20191510_Buckwalter_NPX.xlsx'),'rb'), sheet_name='NPX_Data', usecols = 'A:AUA',skiprows=5)\n",
    "NPX_panel_type = pd.read_excel(open(os.path.join(dir_,'20191510_Buckwalter_NPX.xlsx'),'rb'), sheet_name='NPX_Data', usecols = 'A:AUA',nrows=4).transpose()\n",
    "#NPX_data = NPX_data[pd.notnull(NPX_data['OlinkID'])]\n",
    "#print(NPX_data['OlinkID'])\n",
    "NPX_data['sel'] =NPX_data['OlinkID'].apply(lambda x:1 if str(x)[len(str(x))-2:]=='-0' else 0)\n",
    "NPX_data = NPX_data[NPX_data['sel']==1]\n",
    "NPX_data = NPX_data.drop('sel', axis=1)\n",
    "NPX_data['OlinkID']= NPX_data['OlinkID'].apply(lambda x:x[:-2] if str(x)[len(str(x))-2:]=='-0' else x)\n",
    "NPX_data = NPX_data.rename(columns={'OlinkID':'pid'})\n",
    "NPX_data['pid'] = NPX_data['pid'].apply(lambda x:int(x))\n"
   ]
  },
  {
   "cell_type": "code",
   "execution_count": 56,
   "metadata": {},
   "outputs": [],
   "source": [
    "ocols = [col for col in NPX_data.columns if 'OID' in col]\n",
    "ocols.append('pid')\n",
    "NPX_data = NPX_data[ocols]\n",
    "#NPX_data = NPX_data.dropna(axis=1)\n",
    "#NPX_data.info()"
   ]
  },
  {
   "cell_type": "code",
   "execution_count": 57,
   "metadata": {},
   "outputs": [],
   "source": [
    "NPX_data = NPX_data.dropna(axis=1)\n",
    "#NPX_data.info()"
   ]
  },
  {
   "cell_type": "code",
   "execution_count": 58,
   "metadata": {},
   "outputs": [],
   "source": [
    "protein_names = pd.read_excel(open(os.path.join(dir_,'20191510_Buckwalter_NPX.xlsx'),'rb'), sheet_name='NPX_Data', usecols = 'A:AUA', skiprows=1, nrows=5).transpose()\n",
    "new_header = protein_names.iloc[0] #grab the first row for the header\n",
    "protein_names = protein_names[1:] #take the data less the header row\n",
    "protein_names.columns = new_header\n",
    "protein_names = protein_names.dropna(subset = ['Assay','OlinkID'], axis=0)\n",
    "#len(protein_names[['Assay','OlinkID']])"
   ]
  },
  {
   "cell_type": "code",
   "execution_count": 59,
   "metadata": {},
   "outputs": [],
   "source": [
    "pr_dic = dict(zip(protein_names.Assay,protein_names.OlinkID)) "
   ]
  },
  {
   "cell_type": "code",
   "execution_count": 60,
   "metadata": {},
   "outputs": [],
   "source": [
    "patient_data = pd.read_excel(open(os.path.join(dir_,'StrokeCog_20200128_Restructured.xlsx'),'rb'), sheet_name='StrokeCog_RedCap_20200128_Olink', usecols = 'A:ML', skiprows=1)\n",
    "#updated_patient_data['study_id']\n",
    "#patient_data.head()"
   ]
  },
  {
   "cell_type": "code",
   "execution_count": 61,
   "metadata": {},
   "outputs": [],
   "source": [
    "patient_data['study_id'] = patient_data['study_id'].apply(lambda x: x[5:])\n",
    "patient_data = patient_data.rename(columns={'study_id': 'pid'})\n",
    "patient_data = patient_data.rename(columns={'Stroke_size':'size','demo_gender':'gender', 'nihss_total':'nihss', 'online_hhist_diabtype':'diabtype', 'online_hhist_hf':'CHF', 'online_hhist_valverepl':'hvalve', \\\n",
    "'online_hhist_pd':'Parkinsons', 'online_hhist_seiz':'seizure', 'online_hhist_dementia':'dementia','strokeToBattery_days.event_0_baseline':'timesince', \\\n",
    "'battery_age.event_0_baseline':'age', 'sis1_transformed_score.event_0_baseline':'sis1', 'sis2_transformed_score.event_0_baseline':'sis2', \\\n",
    "'sis3_transformed_score.event_0_baseline':'sis3', 'sis4_transformed_score.event_0_baseline':'sis4',\\\n",
    "'sis5_transformed_score.event_0_baseline':'sis5', 'sis6_transformed_score.event_0_baseline':'sis6', \\\n",
    "'sis7_transformed_score.event_0_baseline':'sis7', 'sis8_transformed_score.event_0_baseline':'sis8', 'facit_f_total.event_0_baseline':'facit'})\n",
    "#patient_data['sis3'].head()\n",
    "patient_data['pid'] = patient_data['pid'].apply(lambda x:int(x))\n",
    "#patient_data.info()"
   ]
  },
  {
   "cell_type": "code",
   "execution_count": 62,
   "metadata": {},
   "outputs": [],
   "source": [
    "#updated_PT_NPX = pd.merge(NPX_data, updated_patient_data, on='pid', how='inner')\n",
    "#updated_PT_NPX.columns#.head()\n",
    "#updated_PT_NPX['gender']\n",
    "set1 = set(NPX_data['pid'].values.tolist())\n",
    "set2 = set(patient_data['pid'].values.tolist())\n",
    "intersection = set1.intersection(set2)\n",
    "NPX_data= NPX_data[NPX_data['pid'].isin(intersection)]\n",
    "#NPX_data.info()\n"
   ]
  },
  {
   "cell_type": "code",
   "execution_count": 63,
   "metadata": {},
   "outputs": [],
   "source": [
    "NPX_data = NPX_data.dropna(axis=0)"
   ]
  },
  {
   "cell_type": "code",
   "execution_count": 64,
   "metadata": {},
   "outputs": [],
   "source": [
    "patient_data = patient_data[patient_data['pid'].isin(intersection)]\n",
    "featurenames = [\"pid\",\"size\",\"gender\",\"nihss\",\"diabtype\",\"CHF\",\"hvalve\",\n",
    "      \"Parkinsons\",\"seizure\",\"dementia\",\"timesince\",\"age\",\"sis1\",\"sis2\",\"sis3\",\"sis4\",\n",
    "      \"sis5\",\"sis6\",\"sis7\",\"sis8\",\"facit\"]\n",
    "patient_data = patient_data[featurenames]\n",
    "#patient_data.info()\n",
    "#len(set(patient_data['pid'].values.tolist()))"
   ]
  },
  {
   "cell_type": "code",
   "execution_count": 65,
   "metadata": {},
   "outputs": [],
   "source": [
    "depressed_patients = patient_data[patient_data['sis3'] < 63]\n",
    "depressed_ids = patient_data[patient_data['sis3'] < 63]['pid']\n",
    "#depressed_ids"
   ]
  },
  {
   "cell_type": "code",
   "execution_count": 66,
   "metadata": {},
   "outputs": [],
   "source": [
    "healthy_patients = patient_data[patient_data['sis3'] > 62]\n",
    "healthy_ids = patient_data[patient_data['sis3'] > 62]['pid']"
   ]
  },
  {
   "cell_type": "code",
   "execution_count": 67,
   "metadata": {},
   "outputs": [],
   "source": [
    "healthy_NPX = NPX_data[NPX_data['pid'].isin(healthy_ids)]\n",
    "depressed_NPX = NPX_data[NPX_data['pid'].isin(depressed_ids)]"
   ]
  },
  {
   "cell_type": "code",
   "execution_count": 68,
   "metadata": {},
   "outputs": [],
   "source": [
    "#healthy_NPX = healthy_NPX.dropna(axis=0)\n",
    "#depressed_NPX = depressed_NPX.dropna(axis=0)"
   ]
  },
  {
   "cell_type": "markdown",
   "metadata": {},
   "source": [
    "# First Plot Without Any Transformation"
   ]
  },
  {
   "cell_type": "code",
   "execution_count": 69,
   "metadata": {},
   "outputs": [],
   "source": [
    "from matplotlib import cm\n",
    "import matplotlib.pyplot as plt\n",
    "import pandas as pd\n",
    "import numpy as np"
   ]
  },
  {
   "cell_type": "code",
   "execution_count": 70,
   "metadata": {},
   "outputs": [],
   "source": [
    "from scipy import stats\n",
    "x = []\n",
    "y = []\n",
    "n = 0\n",
    "y = 0\n",
    "prs_to_plot = ['HPGDS']#['IL1B']#['IL6'] #['TNF']#  ['EGF']#['TRIM5']##\n",
    "for k in prs_to_plot:#,,:#pr_dic.keys(): 'TRIM5'\n",
    "    c = pr_dic[k]"
   ]
  },
  {
   "cell_type": "markdown",
   "metadata": {},
   "source": [
    "# Second Inverse Log Transformation"
   ]
  },
  {
   "cell_type": "code",
   "execution_count": 71,
   "metadata": {},
   "outputs": [],
   "source": [
    "inv_NPX_data = NPX_data.copy()\n",
    "for c in inv_NPX_data:\n",
    "    if c not in ['pid']:\n",
    "        inv_NPX_data[c] = inv_NPX_data[c].apply(lambda x: pow(2,x))"
   ]
  },
  {
   "cell_type": "code",
   "execution_count": 72,
   "metadata": {},
   "outputs": [],
   "source": [
    "healthy_inv_NPX = inv_NPX_data[inv_NPX_data['pid'].isin(healthy_ids)]"
   ]
  },
  {
   "cell_type": "code",
   "execution_count": 73,
   "metadata": {},
   "outputs": [],
   "source": [
    "depressed_inv_NPX =  inv_NPX_data[inv_NPX_data['pid'].isin(depressed_ids)]"
   ]
  },
  {
   "cell_type": "markdown",
   "metadata": {},
   "source": [
    "# Third Mean Tranformation"
   ]
  },
  {
   "cell_type": "code",
   "execution_count": 74,
   "metadata": {},
   "outputs": [],
   "source": [
    "depressed_mean_NPX = depressed_inv_NPX.copy()\n",
    "for c in depressed_mean_NPX:\n",
    "    depressed_mean_NPX[c] =  (depressed_mean_NPX[c] / healthy_inv_NPX[c].mean())\n",
    "#depressed_mean_NPX.head()"
   ]
  },
  {
   "cell_type": "code",
   "execution_count": 75,
   "metadata": {},
   "outputs": [],
   "source": [
    "healthy_mean_NPX = healthy_inv_NPX.copy()\n",
    "for c in healthy_mean_NPX:\n",
    "    healthy_mean_NPX[c] =  (healthy_mean_NPX[c]) / (healthy_inv_NPX[c].mean())\n",
    "#healthy_inv_NPX.head()"
   ]
  },
  {
   "cell_type": "code",
   "execution_count": 76,
   "metadata": {},
   "outputs": [
    {
     "name": "stderr",
     "output_type": "stream",
     "text": [
      "*c* argument looks like a single numeric RGB or RGBA sequence, which should be avoided as value-mapping will have precedence in case its length matches with *x* & *y*.  Please use the *color* keyword-argument or provide a 2-D array with a single row if you intend to specify the same RGB or RGBA value for all points.\n",
      "*c* argument looks like a single numeric RGB or RGBA sequence, which should be avoided as value-mapping will have precedence in case its length matches with *x* & *y*.  Please use the *color* keyword-argument or provide a 2-D array with a single row if you intend to specify the same RGB or RGBA value for all points.\n"
     ]
    },
    {
     "data": {
      "image/png": "[encoded data removed]",
      "text/plain": [
       "<Figure size 432x288 with 1 Axes>"
      ]
     },
     "metadata": {
      "needs_background": "light"
     },
     "output_type": "display_data"
    }
   ],
   "source": [
    "from scipy import stats\n",
    "x = []\n",
    "y = []\n",
    "n = 0\n",
    "y = 0\n",
    "for k in prs_to_plot:#,'EGF','HPGDS']:#pr_dic.keys():\n",
    "    c = pr_dic[k]\n",
    "    ax = plt.subplot(111)\n",
    "    if not c in healthy_NPX.columns:\n",
    "        print(k)\n",
    "        n = n +1\n",
    "        continue\n",
    "    y = y +1\n",
    "    l1 = healthy_mean_NPX[c].values.tolist()\n",
    "    l2 = depressed_mean_NPX[c].values.tolist()\n",
    "    vals=[l1,l2]\n",
    "    x1 = [1 for i in l1]\n",
    "    x2 = [2 for i in l2]\n",
    "    xs = [x1,x2]\n",
    "    names = ['healthy', 'depressed']\n",
    "    #plt.savefig('test.pdf')\n",
    "    ax.boxplot(vals, labels=names, showfliers=False)\n",
    "    ngroup = len(vals)\n",
    "    clevels = np.linspace(0., 1., ngroup)\n",
    "\n",
    "    for x, val, clevel in zip(xs, vals, clevels):\n",
    "        ax.scatter(x, val, c=cm.prism(clevel), alpha=0.4)\n",
    "    #print(names), print(vals), print(xs)\n",
    "    statistic, pval = stats.ttest_ind(l1,l2)\n",
    "    #r, p, lo, hi = pearsonr_ci(l1,l2) #stats.ttest_ind(l1,l2)\n",
    "    if pval < 0.05:\n",
    "        sig = 'sig'\n",
    "    else:\n",
    "        sig = 'NOT sig'\n",
    "    plt.title('pr: %s \\n statistic: %s \\n pval: %s \\n %s' %(k, round(statistic,5), round(pval,5), sig))\n",
    "    k_s = str(k).replace(\"/\", \" \")\n",
    "    #plt.ylim(ymax = 3, ymin = 0)\n",
    "    ax.spines['right'].set_visible(False)\n",
    "    ax.spines['top'].set_visible(False)\n",
    "    #plt.savefig('healthy_dep_test/'+  k_s +'_0.pdf', bbox_inches=\"tight\")\n",
    "    #plt.close()\n",
    "plt.show()"
   ]
  },
  {
   "cell_type": "code",
   "execution_count": null,
   "metadata": {},
   "outputs": [],
   "source": []
  }
 ],
 "metadata": {
  "kernelspec": {
   "display_name": "Python 3",
   "language": "python",
   "name": "python3"
  },
  "language_info": {
   "codemirror_mode": {
    "name": "ipython",
    "version": 3
   },
   "file_extension": ".py",
   "mimetype": "text/x-python",
   "name": "python",
   "nbconvert_exporter": "python",
   "pygments_lexer": "ipython3",
   "version": "3.8.10"
  }
 },
 "nbformat": 4,
 "nbformat_minor": 4
}
