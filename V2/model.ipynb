{
 "cells": [
  {
   "cell_type": "code",
   "execution_count": 10,
   "metadata": {},
   "outputs": [],
   "source": [
    "import numpy as np\n",
    "import pandas as pd\n",
    "import matplotlib.pyplot as plt\n",
    "import os\n",
    "from scipy.stats import spearmanr,pearsonr\n",
    "import sys\n",
    "from math import log10\n",
    "from sklearn.linear_model import LogisticRegression\n",
    "from sklearn import preprocessing\n",
    "from scipy import stats\n",
    "from csv import writer "
   ]
  },
  {
   "cell_type": "code",
   "execution_count": 92,
   "metadata": {},
   "outputs": [],
   "source": [
    "def get_selected_prs(target, method):\n",
    "    sig_prs = pd.read_csv('4manuscript\\Significant_proteins.csv')\n",
    "    all_prts = pd.read_csv('4manuscript\\NAME_OID.csv')\n",
    "    sig_prs_oid = all_prts[all_prts['name'].isin(sig_prs['%s_proteins'%target].values.tolist())]['OID'].values.tolist()\n",
    "    high_cor_prs = sig_prs[((sig_prs['sis3_correlations'].abs()).ge(0.3)) & (sig_prs['sis3_pvalue'].le(0.05))]\n",
    "    high_cor_oid = all_prts[all_prts['name'].isin(high_cor_prs['%s_proteins'%target].values.tolist())]['OID'].values.tolist()\n",
    "    if method == 'sig':\n",
    "        return sig_prs_oid  \n",
    "    if method == 'high_corr':\n",
    "        return high_cor_oid \n",
    "    return "
   ]
  },
  {
   "cell_type": "code",
   "execution_count": 87,
   "metadata": {},
   "outputs": [],
   "source": [
    "def fs_func(target, data, add_fea, method):\n",
    "    feat1 = get_selected_prs(target, method)\n",
    "    feat1 = [f for f in feat1 if f in data]\n",
    "    feat2 = add_fea\n",
    "    k_feas = []\n",
    "    k_feas.extend(feat1)\n",
    "    k_feas.extend(feat2)\n",
    "    return k_feas  "
   ]
  },
  {
   "cell_type": "code",
   "execution_count": 89,
   "metadata": {},
   "outputs": [],
   "source": [
    "NPX_data_V2 = pd.read_csv('4manuscript\\C_NPX_data.csv')\n",
    "NPX_data_V2 = NPX_data_V2.dropna(axis=1)\n",
    "patient_data_v2 = pd.read_csv('4manuscript\\C_patient_data.csv')"
   ]
  },
  {
   "cell_type": "code",
   "execution_count": 96,
   "metadata": {},
   "outputs": [
    {
     "name": "stdout",
     "output_type": "stream",
     "text": [
      "pr +age+ timesince\n"
     ]
    }
   ],
   "source": [
    "target = ['sis3'] #['facit']\n",
    "add_fea = ['age','timesince']#,'size','gender','nihss',]#,\n",
    "str_add_fea = 'pr +' + '+ '.join(add_fea)\n",
    "#print(str_add_fea)\n",
    "\n",
    "y_data_features = []\n",
    "y_data_features.extend(add_fea)\n",
    "y_data_features.extend(target)\n",
    "y_data_features.extend(['pid'])\n",
    "y_data = patient_data_v2.dropna(subset=target)\n",
    "y_data = y_data[y_data_features] #'size','timesince','age',\n",
    "y_data = y_data.dropna(subset=add_fea)\n",
    "\n",
    "X = NPX_data_V2\n",
    "\n",
    "data = y_data.merge(X,how='inner', on='pid')\n",
    "\n",
    "selected_features = [col for col in NPX_data_V2 if 'OID' in col]\n",
    "#print(len(selected_features))\n",
    "selected_features.extend(add_fea)\n",
    "pids = set(data['pid'].values.tolist())   \n",
    "#print(len(selected_features))\n",
    "#print(add_fea)\n",
    "#data.info()"
   ]
  },
  {
   "cell_type": "code",
   "execution_count": 88,
   "metadata": {},
   "outputs": [],
   "source": [
    "model = LogisticRegression(fit_intercept=True)\n",
    "tru_vals = []\n",
    "predictions = []\n",
    "fs_method = 'sig' #'high_corr'#  'no filter'# \n",
    "x_shape = len(selected_features)\n",
    "for i,p in enumerate(list(pids)):\n",
    "    if fs_method == 'no filter':\n",
    "        new_selected_features = selected_features\n",
    "    else:\n",
    "        new_selected_features = fs_func(target[0], data, add_fea, fs_method)\n",
    "    x_tr = data[data['pid']!=p][new_selected_features].values.reshape(-1, len(new_selected_features))\n",
    "    y_tr = data[data['pid']!=p][target].values.reshape(-1, 1)\n",
    "    x_te = data[data['pid']==p][new_selected_features].values.reshape(-1, len(new_selected_features))\n",
    "    y_te = data[data['pid']==p][target].values.reshape(-1, 1)\n",
    "    tru_vals.extend(y_te.flatten())\n",
    "    model.fit(x_tr, y_tr)\n",
    "    y_pred = model.predict(x_te)\n",
    "    predictions.extend(y_pred)"
   ]
  },
  {
   "cell_type": "code",
   "execution_count": 83,
   "metadata": {},
   "outputs": [],
   "source": [
    "List = [type(model).__name__, fs_method+str_add_fea, target,  spearmanr(predictions, tru_vals)[0], spearmanr(predictions, tru_vals)[1],  -log10(spearmanr(predictions, tru_vals)[1])]\n",
    "#file_name = 'FS/kristy_FS_%s_pvals_ipython2.csv'%target[0]\n",
    "file_name = 'test.csv'\n",
    "with open('test/%s'%file_name, 'a') as f_object: \n",
    "    writer_object = writer(f_object) \n",
    "    writer_object.writerow(List) \n",
    "    f_object.close()"
   ]
  },
  {
   "cell_type": "code",
   "execution_count": null,
   "metadata": {
    "scrolled": true
   },
   "outputs": [],
   "source": []
  }
 ],
 "metadata": {
  "kernelspec": {
   "display_name": "Python 2",
   "language": "python",
   "name": "python2"
  },
  "language_info": {
   "codemirror_mode": {
    "name": "ipython",
    "version": 2
   },
   "file_extension": ".py",
   "mimetype": "text/x-python",
   "name": "python",
   "nbconvert_exporter": "python",
   "pygments_lexer": "ipython2",
   "version": "2.7.18"
  }
 },
 "nbformat": 4,
 "nbformat_minor": 2
}
