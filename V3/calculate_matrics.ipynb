{
 "cells": [
  {
   "cell_type": "code",
   "execution_count": 103,
   "metadata": {},
   "outputs": [],
   "source": [
    "import pandas as pd\n",
    "import numpy as np\n",
    "np.random.seed(1)\n",
    "import sklearn\n",
    "from scipy.stats.stats import pearsonr   \n",
    "from scipy.stats.stats import spearmanr   \n",
    "from sklearn.metrics import mean_squared_error\n",
    "import math"
   ]
  },
  {
   "cell_type": "code",
   "execution_count": 155,
   "metadata": {},
   "outputs": [
    {
     "name": "stdout",
     "output_type": "stream",
     "text": [
      "Model:  pr \n",
      "RMSE and Range: 20.858 (6, 100)\n",
      "pearsonr:  0.029 0.237 1.536\n",
      "spearmanr:  0.052 0.212 1.285\n"
     ]
    }
   ],
   "source": [
    "model = 'pr +_true_vs_predictions.txt' # the model is using proteins only\n",
    "true_values = pd.read_csv(model, names = ['True', 'Predictions'], sep='\\t')['True'].values.tolist()\n",
    "predictions = pd.read_csv(model, names = ['True', 'Predictions'], sep='\\t')['Predictions'].values.tolist()\n",
    "spr, spr_p = spearmanr(true_values, predictions) # Spearman test\n",
    "prs, prs_p = pearsonr(true_values, predictions) # Pearson test\n",
    "mse = sklearn.metrics.mean_squared_error(true_values, predictions) # MSE\n",
    "rmse = math.sqrt(mse) # RMSE\n",
    "print('Model: ', model.split('+')[0]) \n",
    "print('RMSE and Range:', round(rmse, 3), (min(true_values), max(true_values)))\n",
    "print('pearsonr: ', round(prs_p, 3) , round(prs, 3), round(-math.log10(prs_p), 3))\n",
    "print('spearmanr: ', round(spr_p, 3), round(spr, 3), round(-math.log10(spr_p), 3))"
   ]
  },
  {
   "cell_type": "code",
   "execution_count": 163,
   "metadata": {},
   "outputs": [
    {
     "data": {
      "text/plain": [
       "[83, 89, 72, 92]"
      ]
     },
     "execution_count": 163,
     "metadata": {},
     "output_type": "execute_result"
    }
   ],
   "source": [
    "predictions[1:5]"
   ]
  },
  {
   "cell_type": "code",
   "execution_count": 165,
   "metadata": {},
   "outputs": [
    {
     "name": "stdout",
     "output_type": "stream",
     "text": [
      "RMSE:  20.128\n",
      "pearsonr:  0.008 0.285 2.083\n",
      "spearmanr:  0.029 0.237 1.535\n"
     ]
    }
   ],
   "source": [
    "model = 'pr +Time Since Stroke_true_vs_predictions.txt' # the model is using proteins and Time Since Stroke\n",
    "true_values = pd.read_csv(model, names = ['True', 'Predictions'], sep='\\t')['True'].values.tolist()\n",
    "predictions = pd.read_csv(model, names = ['True', 'Predictions'], sep='\\t')['Predictions'].values.tolist()\n",
    "spr, spr_p = spearmanr(true_values, predictions) # Spearman test\n",
    "prs, prs_p = pearsonr(true_values, predictions) # Pearson test\n",
    "mse = sklearn.metrics.mean_squared_error(true_values, predictions) # MSE\n",
    "rmse = math.sqrt(mse) # RMSE\n",
    "print('RMSE: ', round(rmse, 3))\n",
    "print('pearsonr: ', round(prs_p, 3) , round(prs, 3), round(-math.log10(prs_p), 3))\n",
    "print('spearmanr: ', round(spr_p, 3), round(spr, 3), round(-math.log10(spr_p), 3))"
   ]
  },
  {
   "cell_type": "code",
   "execution_count": 166,
   "metadata": {},
   "outputs": [
    {
     "data": {
      "text/plain": [
       "[83, 89, 72, 92]"
      ]
     },
     "execution_count": 166,
     "metadata": {},
     "output_type": "execute_result"
    }
   ],
   "source": [
    "predictions[1:5]"
   ]
  },
  {
   "cell_type": "code",
   "execution_count": 168,
   "metadata": {},
   "outputs": [
    {
     "name": "stdout",
     "output_type": "stream",
     "text": [
      "RMSE:  19.928\n",
      "pearsonr:  0.006 0.297 2.234\n",
      "spearmanr:  0.005 0.301 2.284\n"
     ]
    }
   ],
   "source": [
    "model = 'pr +Age_true_vs_predictions.txt' # the model is using proteins and Age\n",
    "true_values = pd.read_csv(model, names = ['True', 'Predictions'], sep='\\t')['True'].values.tolist()\n",
    "predictions = pd.read_csv(model, names = ['True', 'Predictions'], sep='\\t')['Predictions'].values.tolist()\n",
    "spr, spr_p = spearmanr(true_values, predictions) # Spearman test\n",
    "prs, prs_p = pearsonr(true_values, predictions) # Pearson test\n",
    "mse = sklearn.metrics.mean_squared_error(true_values, predictions) # MSE\n",
    "rmse = math.sqrt(mse) # RMSE\n",
    "print('RMSE: ', round(rmse, 3))\n",
    "print('pearsonr: ', round(prs_p, 3) , round(prs, 3), round(-math.log10(prs_p), 3))\n",
    "print('spearmanr: ', round(spr_p, 3), round(spr, 3), round(-math.log10(spr_p), 3))"
   ]
  },
  {
   "cell_type": "code",
   "execution_count": 169,
   "metadata": {},
   "outputs": [
    {
     "data": {
      "text/plain": [
       "[83, 89, 81, 100]"
      ]
     },
     "execution_count": 169,
     "metadata": {},
     "output_type": "execute_result"
    }
   ],
   "source": [
    "predictions[1:5]"
   ]
  },
  {
   "cell_type": "code",
   "execution_count": 173,
   "metadata": {},
   "outputs": [
    {
     "name": "stdout",
     "output_type": "stream",
     "text": [
      "RMSE:  18.814\n",
      "pearsonr:  0.0001 0.414 4.088\n",
      "spearmanr:  0.0008 0.356 3.081\n"
     ]
    }
   ],
   "source": [
    "model = 'pr +Time Since Stroke+ Age_true_vs_predictions.txt' # the model is using proteins and Time Since Stroke and Age\n",
    "true_values = pd.read_csv(model, names = ['True', 'Predictions'], sep='\\t')['True'].values.tolist()\n",
    "predictions = pd.read_csv(model, names = ['True', 'Predictions'], sep='\\t')['Predictions'].values.tolist()\n",
    "spr, spr_p = spearmanr(true_values, predictions) # Spearman test\n",
    "prs, prs_p = pearsonr(true_values, predictions) # Pearson test\n",
    "mse = sklearn.metrics.mean_squared_error(true_values, predictions) # MSE\n",
    "rmse = math.sqrt(mse) # RMSE\n",
    "print('RMSE: ', round(rmse, 3))\n",
    "print('pearsonr: ', round(prs_p, 4) , round(prs, 3), round(-math.log10(prs_p), 3))\n",
    "print('spearmanr: ', round(spr_p, 4), round(spr, 3), round(-math.log10(spr_p), 3))"
   ]
  },
  {
   "cell_type": "code",
   "execution_count": 171,
   "metadata": {},
   "outputs": [
    {
     "data": {
      "text/plain": [
       "[83, 89, 72, 92]"
      ]
     },
     "execution_count": 171,
     "metadata": {},
     "output_type": "execute_result"
    }
   ],
   "source": [
    "predictions[1:5]"
   ]
  },
  {
   "cell_type": "markdown",
   "metadata": {},
   "source": [
    "# Source\n",
    "Google"
   ]
  }
 ],
 "metadata": {
  "kernelspec": {
   "display_name": "Python 3",
   "language": "python",
   "name": "python3"
  },
  "language_info": {
   "codemirror_mode": {
    "name": "ipython",
    "version": 3
   },
   "file_extension": ".py",
   "mimetype": "text/x-python",
   "name": "python",
   "nbconvert_exporter": "python",
   "pygments_lexer": "ipython3",
   "version": "3.6.9"
  }
 },
 "nbformat": 4,
 "nbformat_minor": 4
}
