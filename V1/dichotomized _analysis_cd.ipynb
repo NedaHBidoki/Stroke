{
 "cells": [
  {
   "cell_type": "code",
   "execution_count": 24,
   "metadata": {},
   "outputs": [],
   "source": [
    "import numpy as np\n",
    "from scipy import stats\n",
    "import pandas as pd\n",
    "import matplotlib.pyplot as plt\n",
    "import networkx as nx\n",
    "import os\n",
    "from scipy.stats import spearmanr,pearsonr\n",
    "import sys\n",
    "from math import log10\n",
    "from matplotlib import cm"
   ]
  },
  {
   "cell_type": "code",
   "execution_count": 77,
   "metadata": {},
   "outputs": [],
   "source": [
    "def pearsonr_ci(x,y,alpha=0.05):\n",
    "    r, p = stats.pearsonr(x,y)\n",
    "    r_z = np.arctanh(r)\n",
    "    se = 1/np.sqrt(x.size-3)\n",
    "    z = stats.norm.ppf(1-alpha/2)\n",
    "    lo_z, hi_z = r_z-z*se, r_z+z*se\n",
    "    lo, hi = np.tanh((lo_z, hi_z))\n",
    "    return r, p, lo, hi"
   ]
  },
  {
   "cell_type": "code",
   "execution_count": 12,
   "metadata": {},
   "outputs": [],
   "source": [
    "NPX_data =  pd.read_csv('4manuscript/cleaned_NPX_data.csv')\n",
    "NPX_data = NPX_data.dropna(axis=1)"
   ]
  },
  {
   "cell_type": "code",
   "execution_count": 13,
   "metadata": {},
   "outputs": [],
   "source": [
    "patient_data =  pd.read_csv('4manuscript/cleaned_patient_data.csv')"
   ]
  },
  {
   "cell_type": "code",
   "execution_count": 14,
   "metadata": {},
   "outputs": [],
   "source": [
    "depressed_patients = patient_data[patient_data['sis3'] < 63]\n",
    "depressed_ids = patient_data[patient_data['sis3'] < 63]['pid']"
   ]
  },
  {
   "cell_type": "code",
   "execution_count": 15,
   "metadata": {},
   "outputs": [],
   "source": [
    "healthy_patients = patient_data[patient_data['sis3'] > 62]\n",
    "healthy_ids = patient_data[patient_data['sis3'] > 62]['pid']"
   ]
  },
  {
   "cell_type": "code",
   "execution_count": 16,
   "metadata": {},
   "outputs": [],
   "source": [
    "healthy_NPX = NPX_data[NPX_data['pid'].isin(healthy_ids)]\n",
    "depressed_NPX = NPX_data[NPX_data['pid'].isin(depressed_ids)]"
   ]
  },
  {
   "cell_type": "markdown",
   "metadata": {},
   "source": [
    "# First Plot Without Any Transformation"
   ]
  },
  {
   "cell_type": "code",
   "execution_count": 22,
   "metadata": {},
   "outputs": [],
   "source": [
    "protein_names = pd.read_excel(open(os.path.join('4manuscript/20191510_Buckwalter_NPX.xlsx'),'rb'), sheet_name='NPX_Data', usecols = 'A:AUA', skiprows=1, nrows=5).transpose()\n",
    "new_header = protein_names.iloc[0] #grab the first row for the header\n",
    "protein_names = protein_names[1:] #take the data less the header row\n",
    "protein_names.columns = new_header\n",
    "protein_names = protein_names.dropna(subset = ['Assay','OlinkID'], axis=0)\n",
    "pr_dic = dict(zip(protein_names.Assay,protein_names.OlinkID)) "
   ]
  },
  {
   "cell_type": "code",
   "execution_count": 23,
   "metadata": {},
   "outputs": [],
   "source": [
    "from scipy import stats\n",
    "x = []\n",
    "y = []\n",
    "n = 0\n",
    "y = 0\n",
    "prs_to_plot = ['HPGDS']#['IL1B']#['IL6'] #['TNF']#  ['EGF']#['TRIM5']##\n",
    "for k in prs_to_plot:#,,:#pr_dic.keys(): 'TRIM5'\n",
    "    c = pr_dic[k]"
   ]
  },
  {
   "cell_type": "markdown",
   "metadata": {},
   "source": [
    "# Second Inverse Log Transformation"
   ]
  },
  {
   "cell_type": "code",
   "execution_count": 25,
   "metadata": {},
   "outputs": [],
   "source": [
    "inv_NPX_data = NPX_data.copy()\n",
    "for c in inv_NPX_data:\n",
    "    if c not in ['pid']:\n",
    "        inv_NPX_data[c] = inv_NPX_data[c].apply(lambda x: pow(2,x))"
   ]
  },
  {
   "cell_type": "code",
   "execution_count": 26,
   "metadata": {},
   "outputs": [],
   "source": [
    "healthy_inv_NPX = inv_NPX_data[inv_NPX_data['pid'].isin(healthy_ids)]"
   ]
  },
  {
   "cell_type": "code",
   "execution_count": 27,
   "metadata": {},
   "outputs": [],
   "source": [
    "depressed_inv_NPX =  inv_NPX_data[inv_NPX_data['pid'].isin(depressed_ids)]"
   ]
  },
  {
   "cell_type": "markdown",
   "metadata": {},
   "source": [
    "# Third Mean Tranformation"
   ]
  },
  {
   "cell_type": "code",
   "execution_count": 28,
   "metadata": {},
   "outputs": [],
   "source": [
    "depressed_mean_NPX = depressed_inv_NPX.copy()\n",
    "for c in depressed_mean_NPX:\n",
    "    depressed_mean_NPX[c] =  (depressed_mean_NPX[c] / healthy_inv_NPX[c].mean())"
   ]
  },
  {
   "cell_type": "code",
   "execution_count": 29,
   "metadata": {},
   "outputs": [],
   "source": [
    "healthy_mean_NPX = healthy_inv_NPX.copy()\n",
    "for c in healthy_mean_NPX:\n",
    "    healthy_mean_NPX[c] =  (healthy_mean_NPX[c]) / (healthy_inv_NPX[c].mean())"
   ]
  },
  {
   "cell_type": "code",
   "execution_count": 30,
   "metadata": {},
   "outputs": [
    {
     "name": "stderr",
     "output_type": "stream",
     "text": [
      "*c* argument looks like a single numeric RGB or RGBA sequence, which should be avoided as value-mapping will have precedence in case its length matches with *x* & *y*.  Please use the *color* keyword-argument or provide a 2-D array with a single row if you intend to specify the same RGB or RGBA value for all points.\n",
      "*c* argument looks like a single numeric RGB or RGBA sequence, which should be avoided as value-mapping will have precedence in case its length matches with *x* & *y*.  Please use the *color* keyword-argument or provide a 2-D array with a single row if you intend to specify the same RGB or RGBA value for all points.\n"
     ]
    },
    {
     "data": {
      "image/png": "[encoded data removed]",
      "text/plain": [
       "<Figure size 432x288 with 1 Axes>"
      ]
     },
     "metadata": {
      "needs_background": "light"
     },
     "output_type": "display_data"
    }
   ],
   "source": [
    "from scipy import stats\n",
    "x = []\n",
    "y = []\n",
    "n = 0\n",
    "y = 0\n",
    "for k in prs_to_plot:#,'EGF','HPGDS']:#pr_dic.keys():\n",
    "    c = pr_dic[k]\n",
    "    ax = plt.subplot(111)\n",
    "    if not c in healthy_NPX.columns:\n",
    "        print(k)\n",
    "        n = n +1\n",
    "        continue\n",
    "    y = y +1\n",
    "    l1 = healthy_mean_NPX[c].values.tolist()\n",
    "    l2 = depressed_mean_NPX[c].values.tolist()\n",
    "    vals=[l1,l2]\n",
    "    x1 = [1 for i in l1]\n",
    "    x2 = [2 for i in l2]\n",
    "    xs = [x1,x2]\n",
    "    names = ['healthy', 'depressed']\n",
    "    #plt.savefig('test.pdf')\n",
    "    ax.boxplot(vals, labels=names, showfliers=False)\n",
    "    ngroup = len(vals)\n",
    "    clevels = np.linspace(0., 1., ngroup)\n",
    "\n",
    "    for x, val, clevel in zip(xs, vals, clevels):\n",
    "        ax.scatter(x, val, c=cm.prism(clevel), alpha=0.4)\n",
    "    #print(names), print(vals), print(xs)\n",
    "    statistic, pval = stats.ttest_ind(l1,l2)\n",
    "    #r, p, lo, hi = pearsonr_ci(l1,l2) #stats.ttest_ind(l1,l2)\n",
    "    if pval < 0.05:\n",
    "        sig = 'sig'\n",
    "    else:\n",
    "        sig = 'NOT sig'\n",
    "    plt.title('pr: %s \\n statistic: %s \\n pval: %s \\n %s' %(k, round(statistic,5), round(pval,5), sig))\n",
    "    k_s = str(k).replace(\"/\", \" \")\n",
    "    #plt.ylim(ymax = 3, ymin = 0)\n",
    "    ax.spines['right'].set_visible(False)\n",
    "    ax.spines['top'].set_visible(False)\n",
    "    #plt.savefig('healthy_dep_test/'+  k_s +'_0.pdf', bbox_inches=\"tight\")\n",
    "    #plt.close()\n",
    "plt.show()"
   ]
  },
  {
   "cell_type": "code",
   "execution_count": null,
   "metadata": {},
   "outputs": [],
   "source": []
  }
 ],
 "metadata": {
  "kernelspec": {
   "display_name": "Python 3",
   "language": "python",
   "name": "python3"
  },
  "language_info": {
   "codemirror_mode": {
    "name": "ipython",
    "version": 3
   },
   "file_extension": ".py",
   "mimetype": "text/x-python",
   "name": "python",
   "nbconvert_exporter": "python",
   "pygments_lexer": "ipython3",
   "version": "3.8.8"
  }
 },
 "nbformat": 4,
 "nbformat_minor": 4
}
