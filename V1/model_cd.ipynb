{
 "cells": [
  {
   "cell_type": "code",
   "execution_count": 27,
   "metadata": {},
   "outputs": [],
   "source": [
    "import numpy as np\n",
    "import pandas as pd\n",
    "import matplotlib.pyplot as plt\n",
    "import networkx as nx \n",
    "import os\n",
    "from scipy.stats import spearmanr,pearsonr\n",
    "import sys\n",
    "from math import log10\n",
    "from sklearn.linear_model import Ridge\n",
    "from sklearn.feature_selection import RFE\n",
    "from sklearn.feature_selection import SelectKBest\n",
    "from sklearn.linear_model import LogisticRegression\n",
    "from sklearn.feature_selection import SelectFromModel\n",
    "from sklearn.preprocessing import StandardScaler\n",
    "from sklearn.feature_selection import mutual_info_regression\n",
    "from sklearn.linear_model import LinearRegression\n",
    "from sklearn.model_selection import cross_val_predict\n",
    "import matplotlib.pyplot as plt\n",
    "from sklearn.ensemble import RandomForestRegressor\n",
    "from sklearn import linear_model\n",
    "from sklearn.model_selection import cross_val_score\n",
    "from csv import writer \n",
    "from sklearn import preprocessing\n",
    "from scipy import stats"
   ]
  },
  {
   "cell_type": "code",
   "execution_count": 28,
   "metadata": {},
   "outputs": [],
   "source": [
    "NPX_data =  pd.read_csv('4manuscript/cleaned_NPX_data.csv')\n",
    "NPX_data = NPX_data.dropna(axis=1)"
   ]
  },
  {
   "cell_type": "code",
   "execution_count": 29,
   "metadata": {},
   "outputs": [],
   "source": [
    "patient_data = pd.read_csv('4manuscript/cleaned_patient_data.csv')"
   ]
  },
  {
   "cell_type": "code",
   "execution_count": 30,
   "metadata": {},
   "outputs": [
    {
     "name": "stdout",
     "output_type": "stream",
     "text": [
      "pr +timesince+ age\n",
      "1011\n"
     ]
    }
   ],
   "source": [
    "target = ['sis3'] #['facit']    change targets to facit or sis3 based on the interests\n",
    "add_fea = ['timesince','age']#,'size','gender','nihss',]  # change the features list to investigate their predictive powers\n",
    "str_add_fea = 'pr +' + '+ '.join(add_fea)\n",
    "print(str_add_fea)\n",
    "y_data_features = []\n",
    "y_data_features.extend(add_fea)\n",
    "y_data_features.extend(target)\n",
    "y_data_features.extend(['pid'])\n",
    "y_data = patient_data.dropna(subset=target)\n",
    "y_data = y_data[y_data_features] #'size','timesince','age',\n",
    "y_data = y_data.dropna(subset=add_fea)\n",
    "\n",
    "X = NPX_data\n",
    "\n",
    "data = y_data.merge(X,how='inner', on='pid')\n",
    "\n",
    "selected_features = [col for col in NPX_data if 'OID' in col]\n",
    "selected_features.extend(add_fea)\n",
    "pids = set(data['pid'].values.tolist())   "
   ]
  },
  {
   "cell_type": "code",
   "execution_count": 31,
   "metadata": {},
   "outputs": [],
   "source": [
    "def fs_func(fs_method, fs_x_tr, fs_y_tr, cv_n):\n",
    "    X = fs_x_tr.values\n",
    "    y = fs_y_tr.values\n",
    "    if fs_method == 'high_sig':\n",
    "        feat1 = get_highly_sig_prs()\n",
    "        feat2 = add_fea\n",
    "        k_feas = []\n",
    "        k_feas.extend(feat1)\n",
    "        k_feas.extend(feat2)\n",
    "        return k_feas\n",
    "    if fs_method == 'RF':\n",
    "        model = LogisticRegression()\n",
    "        rfe = RFE(model, 100)\n",
    "        fit = rfe.fit(X, y)\n",
    "        lst = zip(fit.ranking_, fs_x_tr.columns)\n",
    "        lst = sorted(lst, key = lambda x:np.abs(x[0]))\n",
    "    elif fs_method == 'l2':\n",
    "        scaler = StandardScaler()\n",
    "        scaler.fit(fs_x_tr)\n",
    "        sel_ = SelectFromModel(LogisticRegression(penalty='l2'))\n",
    "        sel_.fit(scaler.transform(fs_x_tr), fs_y_tr)\n",
    "        ridge_selected_feat = fs_x_tr.columns[(sel_.get_support())]\n",
    "        lst = zip(sel_.estimator_.coef_[0,:], fs_x_tr.columns)\n",
    "        print(sel_.estimator_.coef_)\n",
    "        lst = sorted(lst,  key = lambda x:np.abs(x[0]))\n",
    "        ridge_df = pd.DataFrame(lst, columns =['feature','Score'])\n",
    "        ridge_df ['cv']=cv_n\n",
    "        write_to_file(fs_method, ridge_df)\n",
    "        return ridge_selected_feat\n",
    "    elif fs_method == 'MIR':\n",
    "        test = SelectKBest(score_func=mutual_info_regression, k=100)\n",
    "        fit = test.fit(X, y)\n",
    "        lst = zip(fit.scores_, fs_x_tr.columns)\n",
    "        lst = sorted(lst,  key = lambda x:-np.abs(x[0]))\n",
    "    else:\n",
    "        return fs_x_tr.columns\n",
    "    fea_df = pd.DataFrame(lst, columns =['feature','Score'])\n",
    "    fea_df ['cv']=cv_n\n",
    "    write_to_file(fs_method, fea_df)\n",
    "    feas = [name for coef, name in lst[:100]]\n",
    "    #print(lst)\n",
    "    return feas"
   ]
  },
  {
   "cell_type": "code",
   "execution_count": 32,
   "metadata": {},
   "outputs": [],
   "source": [
    "model = LogisticRegression(fit_intercept=True)\n",
    "tru_vals = []\n",
    "predictions = []\n",
    "fs_method = 'no filter' #'high_sig'# change no_filter to 'high_sig' to select highly significant proteins \n",
    "for i,p in enumerate(list(pids)):\n",
    "    fs_x_tr =  data[data['pid']!=p][selected_features]\n",
    "    fs_y_tr = data[data['pid']!=p][target]\n",
    "    if fs_method == 'no filter':\n",
    "        new_selected_features = selected_features\n",
    "    else:\n",
    "        new_selected_features = fs_func(fs_method, fs_x_tr, fs_y_tr, p)\n",
    "    x_tr = data[data['pid']!=p][new_selected_features].values.reshape(-1, len(new_selected_features))\n",
    "    y_tr = data[data['pid']!=p][target].values.reshape(-1, 1)\n",
    "    x_te = data[data['pid']==p][new_selected_features].values.reshape(-1, len(new_selected_features))\n",
    "    y_te = data[data['pid']==p][target].values.reshape(-1, 1)\n",
    "    tru_vals.extend(y_te.flatten())\n",
    "    model.fit(x_tr, y_tr)\n",
    "    y_pred = model.predict(x_te)\n",
    "    predictions.extend(y_pred)\n",
    "List = [type(model).__name__, fs_method+str_add_fea, target,  spearmanr(predictions, tru_vals)[0], spearmanr(predictions, tru_vals)[1],  -log10(spearmanr(predictions, tru_vals)[1])]"
   ]
  },
  {
   "cell_type": "code",
   "execution_count": 33,
   "metadata": {},
   "outputs": [],
   "source": [
    "def get_highly_sig_prs():\n",
    "    df = pd.read_csv('4manuscript/%s_highly_corr_prs.csv'%target[0])\n",
    "    print(df['OID'].values.tolist())\n",
    "    return df['OID'].values.tolist()"
   ]
  }
 ],
 "metadata": {
  "kernelspec": {
   "display_name": "Python 2",
   "language": "python",
   "name": "python2"
  },
  "language_info": {
   "codemirror_mode": {
    "name": "ipython",
    "version": 2
   },
   "file_extension": ".py",
   "mimetype": "text/x-python",
   "name": "python",
   "nbconvert_exporter": "python",
   "pygments_lexer": "ipython2",
   "version": "2.7.18"
  }
 },
 "nbformat": 4,
 "nbformat_minor": 2
}
